{
 "cells": [
  {
   "cell_type": "code",
   "execution_count": 1,
   "id": "35442641",
   "metadata": {},
   "outputs": [],
   "source": [
    "#IMPORTING LIBRARIES\n",
    "import pandas as pd\n",
    "import numpy as np\n",
    "import matplotlib.pyplot as plt\n",
    "import seaborn as sns\n",
    "from sklearn.model_selection import train_test_split\n",
    "from sklearn.metrics import confusion_matrix\n",
    "from sklearn.metrics import precision_score,recall_score\n",
    "from sklearn.metrics import classification_report\n",
    "from sklearn.metrics import accuracy_score"
   ]
  },
  {
   "cell_type": "markdown",
   "id": "28d171a4",
   "metadata": {},
   "source": [
    "# 1. Read the dataset to python environment"
   ]
  },
  {
   "cell_type": "code",
   "execution_count": 2,
   "id": "b5cbb934",
   "metadata": {},
   "outputs": [],
   "source": [
    "#LOAD THE DATA SHEET TO PYTHON ENVIRONMENT\n",
    "data = pd.read_excel(\"iris (1).xls\")"
   ]
  },
  {
   "cell_type": "code",
   "execution_count": 3,
   "id": "31235655",
   "metadata": {},
   "outputs": [
    {
     "data": {
      "text/html": [
       "<div>\n",
       "<style scoped>\n",
       "    .dataframe tbody tr th:only-of-type {\n",
       "        vertical-align: middle;\n",
       "    }\n",
       "\n",
       "    .dataframe tbody tr th {\n",
       "        vertical-align: top;\n",
       "    }\n",
       "\n",
       "    .dataframe thead th {\n",
       "        text-align: right;\n",
       "    }\n",
       "</style>\n",
       "<table border=\"1\" class=\"dataframe\">\n",
       "  <thead>\n",
       "    <tr style=\"text-align: right;\">\n",
       "      <th></th>\n",
       "      <th>SL</th>\n",
       "      <th>SW</th>\n",
       "      <th>PL</th>\n",
       "      <th>PW</th>\n",
       "      <th>Classification</th>\n",
       "    </tr>\n",
       "  </thead>\n",
       "  <tbody>\n",
       "    <tr>\n",
       "      <th>0</th>\n",
       "      <td>5.1</td>\n",
       "      <td>3.5</td>\n",
       "      <td>1.4</td>\n",
       "      <td>0.2</td>\n",
       "      <td>Iris-setosa</td>\n",
       "    </tr>\n",
       "    <tr>\n",
       "      <th>1</th>\n",
       "      <td>4.9</td>\n",
       "      <td>3.0</td>\n",
       "      <td>1.4</td>\n",
       "      <td>0.2</td>\n",
       "      <td>Iris-setosa</td>\n",
       "    </tr>\n",
       "    <tr>\n",
       "      <th>2</th>\n",
       "      <td>NaN</td>\n",
       "      <td>3.2</td>\n",
       "      <td>1.3</td>\n",
       "      <td>0.2</td>\n",
       "      <td>Iris-setosa</td>\n",
       "    </tr>\n",
       "    <tr>\n",
       "      <th>3</th>\n",
       "      <td>4.6</td>\n",
       "      <td>3.1</td>\n",
       "      <td>1.5</td>\n",
       "      <td>0.2</td>\n",
       "      <td>Iris-setosa</td>\n",
       "    </tr>\n",
       "    <tr>\n",
       "      <th>4</th>\n",
       "      <td>5.0</td>\n",
       "      <td>3.6</td>\n",
       "      <td>1.4</td>\n",
       "      <td>0.2</td>\n",
       "      <td>Iris-setosa</td>\n",
       "    </tr>\n",
       "    <tr>\n",
       "      <th>...</th>\n",
       "      <td>...</td>\n",
       "      <td>...</td>\n",
       "      <td>...</td>\n",
       "      <td>...</td>\n",
       "      <td>...</td>\n",
       "    </tr>\n",
       "    <tr>\n",
       "      <th>145</th>\n",
       "      <td>6.7</td>\n",
       "      <td>3.0</td>\n",
       "      <td>5.2</td>\n",
       "      <td>2.3</td>\n",
       "      <td>Iris-virginica</td>\n",
       "    </tr>\n",
       "    <tr>\n",
       "      <th>146</th>\n",
       "      <td>6.3</td>\n",
       "      <td>2.5</td>\n",
       "      <td>5.0</td>\n",
       "      <td>1.9</td>\n",
       "      <td>Iris-virginica</td>\n",
       "    </tr>\n",
       "    <tr>\n",
       "      <th>147</th>\n",
       "      <td>6.5</td>\n",
       "      <td>3.0</td>\n",
       "      <td>NaN</td>\n",
       "      <td>2.0</td>\n",
       "      <td>Iris-virginica</td>\n",
       "    </tr>\n",
       "    <tr>\n",
       "      <th>148</th>\n",
       "      <td>6.2</td>\n",
       "      <td>3.4</td>\n",
       "      <td>5.4</td>\n",
       "      <td>2.3</td>\n",
       "      <td>Iris-virginica</td>\n",
       "    </tr>\n",
       "    <tr>\n",
       "      <th>149</th>\n",
       "      <td>5.9</td>\n",
       "      <td>3.0</td>\n",
       "      <td>5.1</td>\n",
       "      <td>1.8</td>\n",
       "      <td>Iris-virginica</td>\n",
       "    </tr>\n",
       "  </tbody>\n",
       "</table>\n",
       "<p>150 rows × 5 columns</p>\n",
       "</div>"
      ],
      "text/plain": [
       "      SL   SW   PL   PW  Classification\n",
       "0    5.1  3.5  1.4  0.2     Iris-setosa\n",
       "1    4.9  3.0  1.4  0.2     Iris-setosa\n",
       "2    NaN  3.2  1.3  0.2     Iris-setosa\n",
       "3    4.6  3.1  1.5  0.2     Iris-setosa\n",
       "4    5.0  3.6  1.4  0.2     Iris-setosa\n",
       "..   ...  ...  ...  ...             ...\n",
       "145  6.7  3.0  5.2  2.3  Iris-virginica\n",
       "146  6.3  2.5  5.0  1.9  Iris-virginica\n",
       "147  6.5  3.0  NaN  2.0  Iris-virginica\n",
       "148  6.2  3.4  5.4  2.3  Iris-virginica\n",
       "149  5.9  3.0  5.1  1.8  Iris-virginica\n",
       "\n",
       "[150 rows x 5 columns]"
      ]
     },
     "execution_count": 3,
     "metadata": {},
     "output_type": "execute_result"
    }
   ],
   "source": [
    "#DISPLAY THE COLUMNS IN THE DATASET\n",
    "data"
   ]
  },
  {
   "cell_type": "markdown",
   "id": "8fb6efb0",
   "metadata": {},
   "source": [
    "#### This data set consists of the physical parameters of three species of  Iris flower — Versicolor, Setosa and Virginica. The numeric parameters which the dataset contains are Sepal width, Sepal length, Petal width and Petal length. "
   ]
  },
  {
   "cell_type": "code",
   "execution_count": 4,
   "id": "38e0ec23",
   "metadata": {},
   "outputs": [
    {
     "data": {
      "text/html": [
       "<div>\n",
       "<style scoped>\n",
       "    .dataframe tbody tr th:only-of-type {\n",
       "        vertical-align: middle;\n",
       "    }\n",
       "\n",
       "    .dataframe tbody tr th {\n",
       "        vertical-align: top;\n",
       "    }\n",
       "\n",
       "    .dataframe thead th {\n",
       "        text-align: right;\n",
       "    }\n",
       "</style>\n",
       "<table border=\"1\" class=\"dataframe\">\n",
       "  <thead>\n",
       "    <tr style=\"text-align: right;\">\n",
       "      <th></th>\n",
       "      <th>SL</th>\n",
       "      <th>SW</th>\n",
       "      <th>PL</th>\n",
       "      <th>PW</th>\n",
       "      <th>Classification</th>\n",
       "    </tr>\n",
       "  </thead>\n",
       "  <tbody>\n",
       "    <tr>\n",
       "      <th>0</th>\n",
       "      <td>5.1</td>\n",
       "      <td>3.5</td>\n",
       "      <td>1.4</td>\n",
       "      <td>0.2</td>\n",
       "      <td>Iris-setosa</td>\n",
       "    </tr>\n",
       "    <tr>\n",
       "      <th>1</th>\n",
       "      <td>4.9</td>\n",
       "      <td>3.0</td>\n",
       "      <td>1.4</td>\n",
       "      <td>0.2</td>\n",
       "      <td>Iris-setosa</td>\n",
       "    </tr>\n",
       "    <tr>\n",
       "      <th>2</th>\n",
       "      <td>NaN</td>\n",
       "      <td>3.2</td>\n",
       "      <td>1.3</td>\n",
       "      <td>0.2</td>\n",
       "      <td>Iris-setosa</td>\n",
       "    </tr>\n",
       "    <tr>\n",
       "      <th>3</th>\n",
       "      <td>4.6</td>\n",
       "      <td>3.1</td>\n",
       "      <td>1.5</td>\n",
       "      <td>0.2</td>\n",
       "      <td>Iris-setosa</td>\n",
       "    </tr>\n",
       "    <tr>\n",
       "      <th>4</th>\n",
       "      <td>5.0</td>\n",
       "      <td>3.6</td>\n",
       "      <td>1.4</td>\n",
       "      <td>0.2</td>\n",
       "      <td>Iris-setosa</td>\n",
       "    </tr>\n",
       "  </tbody>\n",
       "</table>\n",
       "</div>"
      ],
      "text/plain": [
       "    SL   SW   PL   PW Classification\n",
       "0  5.1  3.5  1.4  0.2    Iris-setosa\n",
       "1  4.9  3.0  1.4  0.2    Iris-setosa\n",
       "2  NaN  3.2  1.3  0.2    Iris-setosa\n",
       "3  4.6  3.1  1.5  0.2    Iris-setosa\n",
       "4  5.0  3.6  1.4  0.2    Iris-setosa"
      ]
     },
     "execution_count": 4,
     "metadata": {},
     "output_type": "execute_result"
    }
   ],
   "source": [
    "#PRINT THE FIRST 5 LINES OF THE IRIS DATASET\n",
    "data.head()"
   ]
  },
  {
   "cell_type": "code",
   "execution_count": 5,
   "id": "fb9d2638",
   "metadata": {},
   "outputs": [
    {
     "data": {
      "text/html": [
       "<div>\n",
       "<style scoped>\n",
       "    .dataframe tbody tr th:only-of-type {\n",
       "        vertical-align: middle;\n",
       "    }\n",
       "\n",
       "    .dataframe tbody tr th {\n",
       "        vertical-align: top;\n",
       "    }\n",
       "\n",
       "    .dataframe thead th {\n",
       "        text-align: right;\n",
       "    }\n",
       "</style>\n",
       "<table border=\"1\" class=\"dataframe\">\n",
       "  <thead>\n",
       "    <tr style=\"text-align: right;\">\n",
       "      <th></th>\n",
       "      <th>SL</th>\n",
       "      <th>SW</th>\n",
       "      <th>PL</th>\n",
       "      <th>PW</th>\n",
       "      <th>Classification</th>\n",
       "    </tr>\n",
       "  </thead>\n",
       "  <tbody>\n",
       "    <tr>\n",
       "      <th>145</th>\n",
       "      <td>6.7</td>\n",
       "      <td>3.0</td>\n",
       "      <td>5.2</td>\n",
       "      <td>2.3</td>\n",
       "      <td>Iris-virginica</td>\n",
       "    </tr>\n",
       "    <tr>\n",
       "      <th>146</th>\n",
       "      <td>6.3</td>\n",
       "      <td>2.5</td>\n",
       "      <td>5.0</td>\n",
       "      <td>1.9</td>\n",
       "      <td>Iris-virginica</td>\n",
       "    </tr>\n",
       "    <tr>\n",
       "      <th>147</th>\n",
       "      <td>6.5</td>\n",
       "      <td>3.0</td>\n",
       "      <td>NaN</td>\n",
       "      <td>2.0</td>\n",
       "      <td>Iris-virginica</td>\n",
       "    </tr>\n",
       "    <tr>\n",
       "      <th>148</th>\n",
       "      <td>6.2</td>\n",
       "      <td>3.4</td>\n",
       "      <td>5.4</td>\n",
       "      <td>2.3</td>\n",
       "      <td>Iris-virginica</td>\n",
       "    </tr>\n",
       "    <tr>\n",
       "      <th>149</th>\n",
       "      <td>5.9</td>\n",
       "      <td>3.0</td>\n",
       "      <td>5.1</td>\n",
       "      <td>1.8</td>\n",
       "      <td>Iris-virginica</td>\n",
       "    </tr>\n",
       "  </tbody>\n",
       "</table>\n",
       "</div>"
      ],
      "text/plain": [
       "      SL   SW   PL   PW  Classification\n",
       "145  6.7  3.0  5.2  2.3  Iris-virginica\n",
       "146  6.3  2.5  5.0  1.9  Iris-virginica\n",
       "147  6.5  3.0  NaN  2.0  Iris-virginica\n",
       "148  6.2  3.4  5.4  2.3  Iris-virginica\n",
       "149  5.9  3.0  5.1  1.8  Iris-virginica"
      ]
     },
     "execution_count": 5,
     "metadata": {},
     "output_type": "execute_result"
    }
   ],
   "source": [
    "#PRINT THE LAST 5 LINES OF THE IRIS DATASET\n",
    "data.tail()"
   ]
  },
  {
   "cell_type": "code",
   "execution_count": 6,
   "id": "764c2642",
   "metadata": {},
   "outputs": [
    {
     "data": {
      "text/plain": [
       "Index(['SL', 'SW', 'PL', 'PW', 'Classification'], dtype='object')"
      ]
     },
     "execution_count": 6,
     "metadata": {},
     "output_type": "execute_result"
    }
   ],
   "source": [
    "# DISPALY THE COLUMN LABELS OF IRIS DATASET\n",
    "data.columns"
   ]
  },
  {
   "cell_type": "code",
   "execution_count": 7,
   "id": "563bf9aa",
   "metadata": {},
   "outputs": [
    {
     "data": {
      "text/plain": [
       "(150, 5)"
      ]
     },
     "execution_count": 7,
     "metadata": {},
     "output_type": "execute_result"
    }
   ],
   "source": [
    "#SHAPE OF THE DATASET \n",
    "data.shape"
   ]
  },
  {
   "cell_type": "code",
   "execution_count": 8,
   "id": "ca8489ce",
   "metadata": {},
   "outputs": [
    {
     "data": {
      "text/plain": [
       "SL                7\n",
       "SW                6\n",
       "PL                6\n",
       "PW                0\n",
       "Classification    0\n",
       "dtype: int64"
      ]
     },
     "execution_count": 8,
     "metadata": {},
     "output_type": "execute_result"
    }
   ],
   "source": [
    "# TOTAL NUMBER OF NULL VALUES IN EACH FEATURES IN THE DATAFRAME. \n",
    "data.isna().sum()"
   ]
  },
  {
   "cell_type": "code",
   "execution_count": 9,
   "id": "b6780901",
   "metadata": {},
   "outputs": [
    {
     "name": "stdout",
     "output_type": "stream",
     "text": [
      "<class 'pandas.core.frame.DataFrame'>\n",
      "RangeIndex: 150 entries, 0 to 149\n",
      "Data columns (total 5 columns):\n",
      " #   Column          Non-Null Count  Dtype  \n",
      "---  ------          --------------  -----  \n",
      " 0   SL              143 non-null    float64\n",
      " 1   SW              144 non-null    float64\n",
      " 2   PL              144 non-null    float64\n",
      " 3   PW              150 non-null    float64\n",
      " 4   Classification  150 non-null    object \n",
      "dtypes: float64(4), object(1)\n",
      "memory usage: 6.0+ KB\n"
     ]
    }
   ],
   "source": [
    "#DISPLAY THE FULL SUMMARY OF THE DATAFRAME.\n",
    "data.info()"
   ]
  },
  {
   "cell_type": "code",
   "execution_count": 10,
   "id": "2f68bbad",
   "metadata": {},
   "outputs": [
    {
     "data": {
      "text/html": [
       "<div>\n",
       "<style scoped>\n",
       "    .dataframe tbody tr th:only-of-type {\n",
       "        vertical-align: middle;\n",
       "    }\n",
       "\n",
       "    .dataframe tbody tr th {\n",
       "        vertical-align: top;\n",
       "    }\n",
       "\n",
       "    .dataframe thead th {\n",
       "        text-align: right;\n",
       "    }\n",
       "</style>\n",
       "<table border=\"1\" class=\"dataframe\">\n",
       "  <thead>\n",
       "    <tr style=\"text-align: right;\">\n",
       "      <th></th>\n",
       "      <th>SL</th>\n",
       "      <th>SW</th>\n",
       "      <th>PL</th>\n",
       "      <th>PW</th>\n",
       "    </tr>\n",
       "  </thead>\n",
       "  <tbody>\n",
       "    <tr>\n",
       "      <th>count</th>\n",
       "      <td>143.000000</td>\n",
       "      <td>144.000000</td>\n",
       "      <td>144.000000</td>\n",
       "      <td>150.000000</td>\n",
       "    </tr>\n",
       "    <tr>\n",
       "      <th>mean</th>\n",
       "      <td>5.855944</td>\n",
       "      <td>3.049306</td>\n",
       "      <td>3.756250</td>\n",
       "      <td>1.198667</td>\n",
       "    </tr>\n",
       "    <tr>\n",
       "      <th>std</th>\n",
       "      <td>0.828168</td>\n",
       "      <td>0.430644</td>\n",
       "      <td>1.761306</td>\n",
       "      <td>0.763161</td>\n",
       "    </tr>\n",
       "    <tr>\n",
       "      <th>min</th>\n",
       "      <td>4.300000</td>\n",
       "      <td>2.000000</td>\n",
       "      <td>1.000000</td>\n",
       "      <td>0.100000</td>\n",
       "    </tr>\n",
       "    <tr>\n",
       "      <th>25%</th>\n",
       "      <td>5.100000</td>\n",
       "      <td>2.800000</td>\n",
       "      <td>1.600000</td>\n",
       "      <td>0.300000</td>\n",
       "    </tr>\n",
       "    <tr>\n",
       "      <th>50%</th>\n",
       "      <td>5.800000</td>\n",
       "      <td>3.000000</td>\n",
       "      <td>4.350000</td>\n",
       "      <td>1.300000</td>\n",
       "    </tr>\n",
       "    <tr>\n",
       "      <th>75%</th>\n",
       "      <td>6.400000</td>\n",
       "      <td>3.300000</td>\n",
       "      <td>5.100000</td>\n",
       "      <td>1.800000</td>\n",
       "    </tr>\n",
       "    <tr>\n",
       "      <th>max</th>\n",
       "      <td>7.900000</td>\n",
       "      <td>4.400000</td>\n",
       "      <td>6.900000</td>\n",
       "      <td>2.500000</td>\n",
       "    </tr>\n",
       "  </tbody>\n",
       "</table>\n",
       "</div>"
      ],
      "text/plain": [
       "               SL          SW          PL          PW\n",
       "count  143.000000  144.000000  144.000000  150.000000\n",
       "mean     5.855944    3.049306    3.756250    1.198667\n",
       "std      0.828168    0.430644    1.761306    0.763161\n",
       "min      4.300000    2.000000    1.000000    0.100000\n",
       "25%      5.100000    2.800000    1.600000    0.300000\n",
       "50%      5.800000    3.000000    4.350000    1.300000\n",
       "75%      6.400000    3.300000    5.100000    1.800000\n",
       "max      7.900000    4.400000    6.900000    2.500000"
      ]
     },
     "execution_count": 10,
     "metadata": {},
     "output_type": "execute_result"
    }
   ],
   "source": [
    "#STATISTICS SUMMARY OF THE GIVEN DATAFRAME.\n",
    "data.describe()"
   ]
  },
  {
   "cell_type": "markdown",
   "id": "23ddc7b8",
   "metadata": {},
   "source": [
    "# 2. Do the necessary pre-processing steps."
   ]
  },
  {
   "cell_type": "markdown",
   "id": "1e7f008c",
   "metadata": {},
   "source": [
    "### FILLING MISSING VALUES"
   ]
  },
  {
   "cell_type": "code",
   "execution_count": 11,
   "id": "67f89fb6",
   "metadata": {},
   "outputs": [
    {
     "data": {
      "text/plain": [
       "SL                float64\n",
       "SW                float64\n",
       "PL                float64\n",
       "PW                float64\n",
       "Classification     object\n",
       "dtype: object"
      ]
     },
     "execution_count": 11,
     "metadata": {},
     "output_type": "execute_result"
    }
   ],
   "source": [
    "# Check datatypes\n",
    "data.dtypes"
   ]
  },
  {
   "cell_type": "code",
   "execution_count": 12,
   "id": "af51f84e",
   "metadata": {},
   "outputs": [
    {
     "data": {
      "image/png": "[encoded data removed]",
      "text/plain": [
       "<Figure size 1440x1080 with 4 Axes>"
      ]
     },
     "metadata": {
      "needs_background": "light"
     },
     "output_type": "display_data"
    }
   ],
   "source": [
    "freqgraph = data.select_dtypes(include = ['float'])\n",
    "freqgraph.hist(figsize =(20,15))\n",
    "plt.show()"
   ]
  },
  {
   "cell_type": "code",
   "execution_count": 13,
   "id": "dc5e805e",
   "metadata": {},
   "outputs": [],
   "source": [
    "# Here the data is symmetric so we can replace the missing values with median."
   ]
  },
  {
   "cell_type": "code",
   "execution_count": 14,
   "id": "72665b00",
   "metadata": {},
   "outputs": [],
   "source": [
    "# Filling the missing values."
   ]
  },
  {
   "cell_type": "code",
   "execution_count": 15,
   "id": "1b95832c",
   "metadata": {},
   "outputs": [],
   "source": [
    "for i in [ 'SL', 'SW', 'PL'] :     \n",
    "     data[i]= data[i].fillna(data[i].mean())"
   ]
  },
  {
   "cell_type": "code",
   "execution_count": 16,
   "id": "44aa7030",
   "metadata": {},
   "outputs": [
    {
     "data": {
      "text/plain": [
       "SL                0\n",
       "SW                0\n",
       "PL                0\n",
       "PW                0\n",
       "Classification    0\n",
       "dtype: int64"
      ]
     },
     "execution_count": 16,
     "metadata": {},
     "output_type": "execute_result"
    }
   ],
   "source": [
    "data.isnull().sum()"
   ]
  },
  {
   "cell_type": "code",
   "execution_count": 17,
   "id": "93d132cb",
   "metadata": {},
   "outputs": [
    {
     "data": {
      "text/plain": [
       "Classification\n",
       "Iris-setosa        50\n",
       "Iris-versicolor    50\n",
       "Iris-virginica     50\n",
       "dtype: int64"
      ]
     },
     "execution_count": 17,
     "metadata": {},
     "output_type": "execute_result"
    }
   ],
   "source": [
    "# Number of rows that belongs to each class\n",
    "data.groupby('Classification').size()"
   ]
  },
  {
   "cell_type": "code",
   "execution_count": 18,
   "id": "b28c2f0f",
   "metadata": {},
   "outputs": [
    {
     "name": "stderr",
     "output_type": "stream",
     "text": [
      "C:\\Users\\athir\\anaconda3\\lib\\site-packages\\seaborn\\_decorators.py:36: FutureWarning: Pass the following variable as a keyword arg: x. From version 0.12, the only valid positional argument will be `data`, and passing other arguments without an explicit keyword will result in an error or misinterpretation.\n",
      "  warnings.warn(\n"
     ]
    },
    {
     "data": {
      "image/png": "[encoded data removed]",
      "text/plain": [
       "<Figure size 432x288 with 1 Axes>"
      ]
     },
     "metadata": {
      "needs_background": "light"
     },
     "output_type": "display_data"
    }
   ],
   "source": [
    "sns.countplot(data['Classification'])\n",
    "plt.show()"
   ]
  },
  {
   "cell_type": "markdown",
   "id": "f42eef6f",
   "metadata": {},
   "source": [
    "###### We have 150 rows in which 50 belong to Iris-setosa, 50 belong to Iris-Versicolor, and the remaining 50 belong to Iris_virginica."
   ]
  },
  {
   "cell_type": "code",
   "execution_count": 19,
   "id": "a242e26b",
   "metadata": {},
   "outputs": [
    {
     "data": {
      "text/plain": [
       "Iris-setosa        0.333333\n",
       "Iris-versicolor    0.333333\n",
       "Iris-virginica     0.333333\n",
       "Name: Classification, dtype: float64"
      ]
     },
     "execution_count": 19,
     "metadata": {},
     "output_type": "execute_result"
    }
   ],
   "source": [
    "data[\"Classification\"].value_counts(normalize = \" True\")"
   ]
  },
  {
   "cell_type": "markdown",
   "id": "002d3cb0",
   "metadata": {},
   "source": [
    "### MANAGING OUTLIERS"
   ]
  },
  {
   "cell_type": "code",
   "execution_count": 20,
   "id": "8fd5ff45",
   "metadata": {},
   "outputs": [
    {
     "data": {
      "text/plain": [
       "Text(0.5, 1.0, ' Box Plot Of SL Column')"
      ]
     },
     "execution_count": 20,
     "metadata": {},
     "output_type": "execute_result"
    },
    {
     "data": {
      "image/png": "[encoded data removed]",
      "text/plain": [
       "<Figure size 432x288 with 1 Axes>"
      ]
     },
     "metadata": {
      "needs_background": "light"
     },
     "output_type": "display_data"
    }
   ],
   "source": [
    "plt.boxplot(data[\"SL\"])\n",
    "plt.title(\" Box Plot Of SL Column\")"
   ]
  },
  {
   "cell_type": "markdown",
   "id": "8a179383",
   "metadata": {},
   "source": [
    "#### From the box plot above, we cannot see any data above or below. Therefore, there is no outliers in this column.ie, All the values falls within the range."
   ]
  },
  {
   "cell_type": "code",
   "execution_count": 21,
   "id": "f298b117",
   "metadata": {},
   "outputs": [
    {
     "data": {
      "text/plain": [
       "Text(0.5, 1.0, ' Box Plot Of SW Column')"
      ]
     },
     "execution_count": 21,
     "metadata": {},
     "output_type": "execute_result"
    },
    {
     "data": {
      "image/png": "[encoded data removed]",
      "text/plain": [
       "<Figure size 432x288 with 1 Axes>"
      ]
     },
     "metadata": {
      "needs_background": "light"
     },
     "output_type": "display_data"
    }
   ],
   "source": [
    "plt.boxplot(data[\"SW\"])\n",
    "plt.title(\" Box Plot Of SW Column\")"
   ]
  },
  {
   "cell_type": "markdown",
   "id": "89a86f06",
   "metadata": {},
   "source": [
    "#### From the box plot above , we can see that some circle lying above the upperlimit and below the lowerlimit. This may not indicate that all of these are outliers.Inorder to check , proceed with the below steps."
   ]
  },
  {
   "cell_type": "code",
   "execution_count": 22,
   "id": "a3cf0541",
   "metadata": {},
   "outputs": [
    {
     "name": "stdout",
     "output_type": "stream",
     "text": [
      "2.8\n",
      "3.0\n",
      "3.25\n"
     ]
    }
   ],
   "source": [
    "Q1 = np.percentile(data['SW'],25, interpolation ='midpoint')\n",
    "\n",
    "Q2 = np.percentile(data['SW'],50, interpolation ='midpoint')\n",
    "\n",
    "Q3 = np.percentile(data['SW'],75, interpolation ='midpoint')\n",
    "\n",
    "print(Q1)\n",
    "\n",
    "print(Q2)\n",
    "\n",
    "print(Q3)\n"
   ]
  },
  {
   "cell_type": "code",
   "execution_count": 23,
   "id": "881b2f99",
   "metadata": {},
   "outputs": [
    {
     "data": {
      "text/plain": [
       "3.0"
      ]
     },
     "execution_count": 23,
     "metadata": {},
     "output_type": "execute_result"
    }
   ],
   "source": [
    "data['SW'].median()"
   ]
  },
  {
   "cell_type": "code",
   "execution_count": 24,
   "id": "bfe8d931",
   "metadata": {},
   "outputs": [
    {
     "name": "stdout",
     "output_type": "stream",
     "text": [
      "0.4500000000000002\n"
     ]
    }
   ],
   "source": [
    "IQR = Q3 - Q1\n",
    "print(IQR)"
   ]
  },
  {
   "cell_type": "code",
   "execution_count": 25,
   "id": "e8efd08f",
   "metadata": {},
   "outputs": [
    {
     "name": "stdout",
     "output_type": "stream",
     "text": [
      "2.1249999999999996\n",
      "3.9250000000000003\n"
     ]
    }
   ],
   "source": [
    "low_lim = Q1 - 1.5*IQR\n",
    "up_lim  = Q3 + 1.5*IQR\n",
    "\n",
    "print(low_lim)\n",
    "print(up_lim)"
   ]
  },
  {
   "cell_type": "code",
   "execution_count": 26,
   "id": "c55fa2ad",
   "metadata": {},
   "outputs": [],
   "source": [
    "outlier =[]\n",
    "\n",
    "for x in data [\"SW\"]:\n",
    "  if((x > up_lim) or(x < low_lim)):\n",
    "    outlier.append(x)"
   ]
  },
  {
   "cell_type": "code",
   "execution_count": 27,
   "id": "5f12d845",
   "metadata": {},
   "outputs": [
    {
     "data": {
      "text/plain": [
       "[4.0, 4.4, 4.1, 4.2, 2.0]"
      ]
     },
     "execution_count": 27,
     "metadata": {},
     "output_type": "execute_result"
    }
   ],
   "source": [
    "# Identification of Outliers\n",
    "\n",
    "outlier"
   ]
  },
  {
   "cell_type": "code",
   "execution_count": 28,
   "id": "08cdb0fa",
   "metadata": {},
   "outputs": [],
   "source": [
    "# the outlier index values\n",
    "\n",
    "ind = ( (data[\"SW\"]>up_lim) |  (data[\"SW\"]<low_lim))"
   ]
  },
  {
   "cell_type": "code",
   "execution_count": 29,
   "id": "4f65c828",
   "metadata": {},
   "outputs": [
    {
     "data": {
      "text/plain": [
       "Int64Index([14, 15, 32, 33, 60], dtype='int64')"
      ]
     },
     "execution_count": 29,
     "metadata": {},
     "output_type": "execute_result"
    }
   ],
   "source": [
    "data.loc[ind].index"
   ]
  },
  {
   "cell_type": "code",
   "execution_count": null,
   "id": "e3f26558",
   "metadata": {},
   "outputs": [],
   "source": []
  },
  {
   "cell_type": "code",
   "execution_count": 30,
   "id": "42869e25",
   "metadata": {},
   "outputs": [
    {
     "data": {
      "text/plain": [
       "Text(0.5, 1.0, ' Box Plot Of PL Column')"
      ]
     },
     "execution_count": 30,
     "metadata": {},
     "output_type": "execute_result"
    },
    {
     "data": {
      "image/png": "[encoded data removed]",
      "text/plain": [
       "<Figure size 432x288 with 1 Axes>"
      ]
     },
     "metadata": {
      "needs_background": "light"
     },
     "output_type": "display_data"
    }
   ],
   "source": [
    "plt.boxplot(data[\"PL\"])\n",
    "plt.title(\" Box Plot Of PL Column\")"
   ]
  },
  {
   "cell_type": "markdown",
   "id": "e4c99e42",
   "metadata": {},
   "source": [
    "#### From the box plot above, we cannot see any data above or below. Therefore, there is no outliers in this column.ie, All the values falls within the range."
   ]
  },
  {
   "cell_type": "code",
   "execution_count": 31,
   "id": "6f82f34b",
   "metadata": {},
   "outputs": [
    {
     "data": {
      "text/plain": [
       "Text(0.5, 1.0, ' Box Plot Of PW Column')"
      ]
     },
     "execution_count": 31,
     "metadata": {},
     "output_type": "execute_result"
    },
    {
     "data": {
      "image/png": "[encoded data removed]",
      "text/plain": [
       "<Figure size 432x288 with 1 Axes>"
      ]
     },
     "metadata": {
      "needs_background": "light"
     },
     "output_type": "display_data"
    }
   ],
   "source": [
    "plt.boxplot(data[\"PW\"])\n",
    "plt.title(\" Box Plot Of PW Column\")"
   ]
  },
  {
   "cell_type": "markdown",
   "id": "ed39cc83",
   "metadata": {},
   "source": [
    "#### From the box plot above, we cannot see any data above or below. Therefore, there is no outliers in this column.ie, All the values falls within the range."
   ]
  },
  {
   "cell_type": "code",
   "execution_count": 32,
   "id": "2da9c586",
   "metadata": {},
   "outputs": [
    {
     "data": {
      "text/plain": [
       "3"
      ]
     },
     "execution_count": 32,
     "metadata": {},
     "output_type": "execute_result"
    }
   ],
   "source": [
    "# the number of all unique values of Classification column.\n",
    "data.Classification.nunique()"
   ]
  },
  {
   "cell_type": "code",
   "execution_count": 33,
   "id": "4e4d2037",
   "metadata": {},
   "outputs": [
    {
     "data": {
      "text/plain": [
       "array(['Iris-setosa', 'Iris-versicolor', 'Iris-virginica'], dtype=object)"
      ]
     },
     "execution_count": 33,
     "metadata": {},
     "output_type": "execute_result"
    }
   ],
   "source": [
    "# unique values of Classification column in the form of an array .\n",
    "data.Classification.unique()"
   ]
  },
  {
   "cell_type": "code",
   "execution_count": 34,
   "id": "52719372",
   "metadata": {},
   "outputs": [
    {
     "data": {
      "text/plain": [
       "Index(['SL', 'SW', 'PL', 'PW', 'Classification'], dtype='object')"
      ]
     },
     "execution_count": 34,
     "metadata": {},
     "output_type": "execute_result"
    }
   ],
   "source": [
    "data.columns"
   ]
  },
  {
   "cell_type": "code",
   "execution_count": 35,
   "id": "b7a48952",
   "metadata": {},
   "outputs": [
    {
     "data": {
      "text/plain": [
       "<AxesSubplot:>"
      ]
     },
     "execution_count": 35,
     "metadata": {},
     "output_type": "execute_result"
    },
    {
     "data": {
      "image/png": "[encoded data removed]",
      "text/plain": [
       "<Figure size 432x288 with 1 Axes>"
      ]
     },
     "metadata": {
      "needs_background": "light"
     },
     "output_type": "display_data"
    }
   ],
   "source": [
    "# Andrews Curves involve using attributes of samples as coefficients for Fourier series and then plotting these.\n",
    "from pandas.plotting import andrews_curves\n",
    "andrews_curves(data, \"Classification\")"
   ]
  },
  {
   "cell_type": "markdown",
   "id": "6974fcb5",
   "metadata": {},
   "source": [
    "##### LABEL ENCODING"
   ]
  },
  {
   "cell_type": "code",
   "execution_count": 36,
   "id": "c6b89cc7",
   "metadata": {},
   "outputs": [
    {
     "data": {
      "text/html": [
       "<div>\n",
       "<style scoped>\n",
       "    .dataframe tbody tr th:only-of-type {\n",
       "        vertical-align: middle;\n",
       "    }\n",
       "\n",
       "    .dataframe tbody tr th {\n",
       "        vertical-align: top;\n",
       "    }\n",
       "\n",
       "    .dataframe thead th {\n",
       "        text-align: right;\n",
       "    }\n",
       "</style>\n",
       "<table border=\"1\" class=\"dataframe\">\n",
       "  <thead>\n",
       "    <tr style=\"text-align: right;\">\n",
       "      <th></th>\n",
       "      <th>SL</th>\n",
       "      <th>SW</th>\n",
       "      <th>PL</th>\n",
       "      <th>PW</th>\n",
       "      <th>Classification</th>\n",
       "    </tr>\n",
       "  </thead>\n",
       "  <tbody>\n",
       "    <tr>\n",
       "      <th>0</th>\n",
       "      <td>5.100000</td>\n",
       "      <td>3.5</td>\n",
       "      <td>1.4</td>\n",
       "      <td>0.2</td>\n",
       "      <td>Iris-setosa</td>\n",
       "    </tr>\n",
       "    <tr>\n",
       "      <th>1</th>\n",
       "      <td>4.900000</td>\n",
       "      <td>3.0</td>\n",
       "      <td>1.4</td>\n",
       "      <td>0.2</td>\n",
       "      <td>Iris-setosa</td>\n",
       "    </tr>\n",
       "    <tr>\n",
       "      <th>2</th>\n",
       "      <td>5.855944</td>\n",
       "      <td>3.2</td>\n",
       "      <td>1.3</td>\n",
       "      <td>0.2</td>\n",
       "      <td>Iris-setosa</td>\n",
       "    </tr>\n",
       "    <tr>\n",
       "      <th>3</th>\n",
       "      <td>4.600000</td>\n",
       "      <td>3.1</td>\n",
       "      <td>1.5</td>\n",
       "      <td>0.2</td>\n",
       "      <td>Iris-setosa</td>\n",
       "    </tr>\n",
       "    <tr>\n",
       "      <th>4</th>\n",
       "      <td>5.000000</td>\n",
       "      <td>3.6</td>\n",
       "      <td>1.4</td>\n",
       "      <td>0.2</td>\n",
       "      <td>Iris-setosa</td>\n",
       "    </tr>\n",
       "  </tbody>\n",
       "</table>\n",
       "</div>"
      ],
      "text/plain": [
       "         SL   SW   PL   PW Classification\n",
       "0  5.100000  3.5  1.4  0.2    Iris-setosa\n",
       "1  4.900000  3.0  1.4  0.2    Iris-setosa\n",
       "2  5.855944  3.2  1.3  0.2    Iris-setosa\n",
       "3  4.600000  3.1  1.5  0.2    Iris-setosa\n",
       "4  5.000000  3.6  1.4  0.2    Iris-setosa"
      ]
     },
     "execution_count": 36,
     "metadata": {},
     "output_type": "execute_result"
    }
   ],
   "source": [
    "data.head()"
   ]
  },
  {
   "cell_type": "code",
   "execution_count": 37,
   "id": "55be17b0",
   "metadata": {},
   "outputs": [
    {
     "data": {
      "text/plain": [
       "SL                0\n",
       "SW                0\n",
       "PL                0\n",
       "PW                0\n",
       "Classification    0\n",
       "dtype: int64"
      ]
     },
     "execution_count": 37,
     "metadata": {},
     "output_type": "execute_result"
    }
   ],
   "source": [
    "data.isna().sum()"
   ]
  },
  {
   "cell_type": "code",
   "execution_count": 38,
   "id": "ac4679e3",
   "metadata": {},
   "outputs": [],
   "source": [
    "# CALLING THE LIBRARY\n",
    "from sklearn.preprocessing  import LabelEncoder "
   ]
  },
  {
   "cell_type": "code",
   "execution_count": 39,
   "id": "2d3a80cd",
   "metadata": {},
   "outputs": [],
   "source": [
    "# CREATING THE INSTANCE\n",
    "label_encoder = LabelEncoder()"
   ]
  },
  {
   "cell_type": "code",
   "execution_count": 40,
   "id": "138f5356",
   "metadata": {},
   "outputs": [],
   "source": [
    "# FITTING THE TRANSFORM\n",
    "data['Classification'] = label_encoder.fit_transform(data['Classification'])"
   ]
  },
  {
   "cell_type": "code",
   "execution_count": 41,
   "id": "c8391fd8",
   "metadata": {},
   "outputs": [
    {
     "data": {
      "text/html": [
       "<div>\n",
       "<style scoped>\n",
       "    .dataframe tbody tr th:only-of-type {\n",
       "        vertical-align: middle;\n",
       "    }\n",
       "\n",
       "    .dataframe tbody tr th {\n",
       "        vertical-align: top;\n",
       "    }\n",
       "\n",
       "    .dataframe thead th {\n",
       "        text-align: right;\n",
       "    }\n",
       "</style>\n",
       "<table border=\"1\" class=\"dataframe\">\n",
       "  <thead>\n",
       "    <tr style=\"text-align: right;\">\n",
       "      <th></th>\n",
       "      <th>SL</th>\n",
       "      <th>SW</th>\n",
       "      <th>PL</th>\n",
       "      <th>PW</th>\n",
       "      <th>Classification</th>\n",
       "    </tr>\n",
       "  </thead>\n",
       "  <tbody>\n",
       "    <tr>\n",
       "      <th>0</th>\n",
       "      <td>5.100000</td>\n",
       "      <td>3.5</td>\n",
       "      <td>1.4</td>\n",
       "      <td>0.2</td>\n",
       "      <td>0</td>\n",
       "    </tr>\n",
       "    <tr>\n",
       "      <th>1</th>\n",
       "      <td>4.900000</td>\n",
       "      <td>3.0</td>\n",
       "      <td>1.4</td>\n",
       "      <td>0.2</td>\n",
       "      <td>0</td>\n",
       "    </tr>\n",
       "    <tr>\n",
       "      <th>2</th>\n",
       "      <td>5.855944</td>\n",
       "      <td>3.2</td>\n",
       "      <td>1.3</td>\n",
       "      <td>0.2</td>\n",
       "      <td>0</td>\n",
       "    </tr>\n",
       "    <tr>\n",
       "      <th>3</th>\n",
       "      <td>4.600000</td>\n",
       "      <td>3.1</td>\n",
       "      <td>1.5</td>\n",
       "      <td>0.2</td>\n",
       "      <td>0</td>\n",
       "    </tr>\n",
       "    <tr>\n",
       "      <th>4</th>\n",
       "      <td>5.000000</td>\n",
       "      <td>3.6</td>\n",
       "      <td>1.4</td>\n",
       "      <td>0.2</td>\n",
       "      <td>0</td>\n",
       "    </tr>\n",
       "  </tbody>\n",
       "</table>\n",
       "</div>"
      ],
      "text/plain": [
       "         SL   SW   PL   PW  Classification\n",
       "0  5.100000  3.5  1.4  0.2               0\n",
       "1  4.900000  3.0  1.4  0.2               0\n",
       "2  5.855944  3.2  1.3  0.2               0\n",
       "3  4.600000  3.1  1.5  0.2               0\n",
       "4  5.000000  3.6  1.4  0.2               0"
      ]
     },
     "execution_count": 41,
     "metadata": {},
     "output_type": "execute_result"
    }
   ],
   "source": [
    "data.head()"
   ]
  },
  {
   "cell_type": "code",
   "execution_count": 42,
   "id": "f23f51ba",
   "metadata": {},
   "outputs": [
    {
     "data": {
      "image/png": "[encoded data removed]",
      "text/plain": [
       "<Figure size 504x360 with 2 Axes>"
      ]
     },
     "metadata": {
      "needs_background": "light"
     },
     "output_type": "display_data"
    }
   ],
   "source": [
    "# Plotting the heatmap to check the correlation.\n",
    "plt.figure(figsize=(7,5))\n",
    "sns.heatmap(data.corr(), annot=True, cmap='Greens')\n",
    "plt.show()"
   ]
  },
  {
   "cell_type": "markdown",
   "id": "f863f077",
   "metadata": {},
   "source": [
    "###### MACHINE LEARNING MODEL"
   ]
  },
  {
   "cell_type": "code",
   "execution_count": 43,
   "id": "e4224a4a",
   "metadata": {},
   "outputs": [],
   "source": [
    "# Seperating the data into dependent and independent variables\n",
    "X = data.iloc[:, :-1].values\n",
    "y = data.iloc[:, -1].values\n",
    "\n",
    "# Splitting the dataset into the Training set and Test set\n",
    "X_train, X_test, y_train, y_test = train_test_split(X, y, test_size = 0.2, random_state = 42)"
   ]
  },
  {
   "cell_type": "markdown",
   "id": "2475c160",
   "metadata": {},
   "source": [
    "# 3. Find out which classification model gives the best result (also do random forest algorithm)"
   ]
  },
  {
   "cell_type": "markdown",
   "id": "5364fc8d",
   "metadata": {},
   "source": [
    "## CLASSIFICATION MODELS"
   ]
  },
  {
   "cell_type": "markdown",
   "id": "b754e286",
   "metadata": {},
   "source": [
    "###     MODEL 1 -- LOGISTIC REGRESSION MODEL"
   ]
  },
  {
   "cell_type": "code",
   "execution_count": 44,
   "id": "fd6ce375",
   "metadata": {},
   "outputs": [],
   "source": [
    "#importing the libraries for logistic regression\n",
    "from sklearn.linear_model import LogisticRegression"
   ]
  },
  {
   "cell_type": "code",
   "execution_count": 45,
   "id": "4e1f1c33",
   "metadata": {},
   "outputs": [],
   "source": [
    "# Implementing Logistic Regression Model"
   ]
  },
  {
   "cell_type": "code",
   "execution_count": 46,
   "id": "4ef32844",
   "metadata": {},
   "outputs": [],
   "source": [
    "# Instantiate learning model\n",
    "logit_model = LogisticRegression()\n",
    "# Fitting the model\n",
    "logit_model = logit_model.fit(X_train, y_train)\n",
    "# Predicting the Test set results\n",
    "y_pred_logit= logit_model.predict(X_test)"
   ]
  },
  {
   "cell_type": "code",
   "execution_count": 47,
   "id": "4b0559d1",
   "metadata": {},
   "outputs": [],
   "source": [
    "#EVALUATING PREDICTIONS"
   ]
  },
  {
   "cell_type": "code",
   "execution_count": 48,
   "id": "1a9ce898",
   "metadata": {},
   "outputs": [
    {
     "name": "stdout",
     "output_type": "stream",
     "text": [
      "\n",
      "\n",
      "              precision    recall  f1-score   support\n",
      "\n",
      "           0       1.00      1.00      1.00        10\n",
      "           1       1.00      1.00      1.00         9\n",
      "           2       1.00      1.00      1.00        11\n",
      "\n",
      "    accuracy                           1.00        30\n",
      "   macro avg       1.00      1.00      1.00        30\n",
      "weighted avg       1.00      1.00      1.00        30\n",
      "\n",
      "\n",
      "\n",
      "Confusion Matrix is :\n",
      "\n",
      " [[10  0  0]\n",
      " [ 0  9  0]\n",
      " [ 0  0 11]]\n",
      "\n",
      "\n",
      "Accuracy Score is :  1.0\n",
      "\n",
      "\n"
     ]
    }
   ],
   "source": [
    "# Summary of the predictions made by the classifier\n",
    "print(\"\\n\")\n",
    "print(classification_report(y_test, y_pred_logit))\n",
    "print(\"\\n\")\n",
    "\n",
    "# Confusion Matrix\n",
    "print('Confusion Matrix is :\\n\\n',confusion_matrix(y_test, y_pred_logit))\n",
    "print(\"\\n\")\n",
    "\n",
    "# Accuracy score\n",
    "print('Accuracy Score is : ',accuracy_score(y_pred_logit,y_test))\n",
    "print(\"\\n\")"
   ]
  },
  {
   "cell_type": "markdown",
   "id": "21818df5",
   "metadata": {},
   "source": [
    "\n",
    "\n",
    "\n",
    "### MODEL 2 --  K-NEAREST NEIGHNORS (kNN)"
   ]
  },
  {
   "cell_type": "code",
   "execution_count": 49,
   "id": "bed4a21a",
   "metadata": {},
   "outputs": [],
   "source": [
    "#importing the libraries for kNN \n",
    "from sklearn.neighbors import KNeighborsClassifier"
   ]
  },
  {
   "cell_type": "code",
   "execution_count": 50,
   "id": "f7b24dd0",
   "metadata": {},
   "outputs": [],
   "source": [
    "# Implementing kNN Model"
   ]
  },
  {
   "cell_type": "code",
   "execution_count": 51,
   "id": "08f0e4a6",
   "metadata": {},
   "outputs": [],
   "source": [
    "metric_k=[]\n",
    "neighbors= range(3,15)\n",
    "\n",
    "for k in neighbors:\n",
    "    classifier= KNeighborsClassifier(n_neighbors=k)\n",
    "    classifier= classifier.fit(X_train,y_train)\n",
    "    y_pred_kNN= classifier.predict(X_test)\n",
    "    acc=accuracy_score(y_test,y_pred_kNN)\n",
    "    metric_k.append(acc)"
   ]
  },
  {
   "cell_type": "code",
   "execution_count": 52,
   "id": "81ac9f66",
   "metadata": {},
   "outputs": [
    {
     "data": {
      "image/png": "[encoded data removed]",
      "text/plain": [
       "<Figure size 432x288 with 1 Axes>"
      ]
     },
     "metadata": {
      "needs_background": "light"
     },
     "output_type": "display_data"
    }
   ],
   "source": [
    "plt.plot(neighbors,metric_k,'o-')\n",
    "plt.xlabel('k values')\n",
    "plt.ylabel('Accuracies')\n",
    "plt.grid()"
   ]
  },
  {
   "cell_type": "code",
   "execution_count": 53,
   "id": "239d6425",
   "metadata": {},
   "outputs": [],
   "source": [
    "# Instantiate learning model\n",
    "classifier= KNeighborsClassifier(n_neighbors=5)\n",
    "# Fitting the model\n",
    "classifier= classifier.fit(X_train,y_train)\n",
    "# Predicting the Test set results\n",
    "y_pred_kNN= classifier.predict(X_test)"
   ]
  },
  {
   "cell_type": "code",
   "execution_count": 54,
   "id": "d48ef416",
   "metadata": {},
   "outputs": [],
   "source": [
    "#EVALUATING PREDICTIONS"
   ]
  },
  {
   "cell_type": "code",
   "execution_count": 55,
   "id": "f5d5be64",
   "metadata": {},
   "outputs": [
    {
     "name": "stdout",
     "output_type": "stream",
     "text": [
      "\n",
      "\n",
      "              precision    recall  f1-score   support\n",
      "\n",
      "           0       1.00      1.00      1.00        10\n",
      "           1       1.00      0.89      0.94         9\n",
      "           2       0.92      1.00      0.96        11\n",
      "\n",
      "    accuracy                           0.97        30\n",
      "   macro avg       0.97      0.96      0.97        30\n",
      "weighted avg       0.97      0.97      0.97        30\n",
      "\n",
      "\n",
      "\n",
      "Confusion Matrix is :\n",
      "\n",
      " [[10  0  0]\n",
      " [ 0  8  1]\n",
      " [ 0  0 11]]\n",
      "\n",
      "\n",
      "Accuracy Score is :  0.9666666666666667\n",
      "\n",
      "\n"
     ]
    }
   ],
   "source": [
    "# Summary of the predictions made by the classifier\n",
    "print(\"\\n\")\n",
    "print(classification_report(y_test, y_pred_kNN))\n",
    "print(\"\\n\")\n",
    "\n",
    "# Confusion Matrix\n",
    "print('Confusion Matrix is :\\n\\n',confusion_matrix(y_test, y_pred_kNN))\n",
    "print(\"\\n\")\n",
    "\n",
    "# Accuracy score\n",
    "print('Accuracy Score is : ',accuracy_score(y_pred_kNN,y_test))\n",
    "print(\"\\n\")"
   ]
  },
  {
   "cell_type": "markdown",
   "id": "9130c75f",
   "metadata": {},
   "source": [
    "### MODEL 3  ---  SUPPORT VECTOR MACHINES (SVM)"
   ]
  },
  {
   "cell_type": "code",
   "execution_count": 56,
   "id": "748b2562",
   "metadata": {},
   "outputs": [],
   "source": [
    "# importing the libraries for Support Vector Machine's Model\n",
    "from sklearn.svm import SVC"
   ]
  },
  {
   "cell_type": "code",
   "execution_count": 57,
   "id": "0a403fe1",
   "metadata": {},
   "outputs": [],
   "source": [
    "# Implementing Support Vector Machine's Model"
   ]
  },
  {
   "cell_type": "code",
   "execution_count": 58,
   "id": "4e9ac7a3",
   "metadata": {},
   "outputs": [],
   "source": [
    "# Instantiate learning model\n",
    "svm_clf = SVC(kernel = 'linear')\n",
    "# Fitting the model\n",
    "svm_clf = svm_clf.fit(X_train, y_train)\n",
    "# Predicting the Test set results\n",
    "y_pred_svm = svm_clf.predict(X_test)"
   ]
  },
  {
   "cell_type": "code",
   "execution_count": 59,
   "id": "0fab7622",
   "metadata": {},
   "outputs": [],
   "source": [
    "#EVALUATING PREDICTIONS"
   ]
  },
  {
   "cell_type": "code",
   "execution_count": 60,
   "id": "b210e014",
   "metadata": {},
   "outputs": [
    {
     "name": "stdout",
     "output_type": "stream",
     "text": [
      "\n",
      "\n",
      "              precision    recall  f1-score   support\n",
      "\n",
      "           0       1.00      1.00      1.00        10\n",
      "           1       1.00      1.00      1.00         9\n",
      "           2       1.00      1.00      1.00        11\n",
      "\n",
      "    accuracy                           1.00        30\n",
      "   macro avg       1.00      1.00      1.00        30\n",
      "weighted avg       1.00      1.00      1.00        30\n",
      "\n",
      "\n",
      "\n",
      "Confusion Matrix is :\n",
      "\n",
      " [[10  0  0]\n",
      " [ 0  9  0]\n",
      " [ 0  0 11]]\n",
      "\n",
      "\n",
      "Accuracy Score is :  1.0\n",
      "\n",
      "\n"
     ]
    }
   ],
   "source": [
    "# Summary of the predictions made by the classifier\n",
    "print(\"\\n\")\n",
    "print(classification_report(y_test, y_pred_svm))\n",
    "print(\"\\n\")\n",
    "\n",
    "# Confusion Matrix\n",
    "print('Confusion Matrix is :\\n\\n',confusion_matrix(y_test, y_pred_svm))\n",
    "print(\"\\n\")\n",
    "\n",
    "# Accuracy score\n",
    "print('Accuracy Score is : ',accuracy_score(y_pred_svm,y_test))\n",
    "print(\"\\n\")"
   ]
  },
  {
   "cell_type": "code",
   "execution_count": 61,
   "id": "af5b8209",
   "metadata": {},
   "outputs": [],
   "source": [
    "# Instantiate learning model\n",
    "svm_clf2 = SVC(kernel = 'rbf')\n",
    "# Fitting the model\n",
    "svm_clf2 = svm_clf2.fit(X_train, y_train)\n",
    "# Predicting the Test set results\n",
    "y_pred_svm2 = svm_clf2.predict(X_test)"
   ]
  },
  {
   "cell_type": "code",
   "execution_count": 62,
   "id": "ec003ffc",
   "metadata": {},
   "outputs": [],
   "source": [
    "#EVALUATING PREDICTIONS"
   ]
  },
  {
   "cell_type": "code",
   "execution_count": 63,
   "id": "618203b0",
   "metadata": {},
   "outputs": [
    {
     "name": "stdout",
     "output_type": "stream",
     "text": [
      "\n",
      "\n",
      "              precision    recall  f1-score   support\n",
      "\n",
      "           0       1.00      1.00      1.00        10\n",
      "           1       1.00      1.00      1.00         9\n",
      "           2       1.00      1.00      1.00        11\n",
      "\n",
      "    accuracy                           1.00        30\n",
      "   macro avg       1.00      1.00      1.00        30\n",
      "weighted avg       1.00      1.00      1.00        30\n",
      "\n",
      "\n",
      "\n",
      "Confusion Matrix is :\n",
      "\n",
      " [[10  0  0]\n",
      " [ 0  9  0]\n",
      " [ 0  0 11]]\n",
      "\n",
      "\n",
      "Accuracy Score is :  1.0\n",
      "\n",
      "\n"
     ]
    }
   ],
   "source": [
    "# Summary of the predictions made by the classifier\n",
    "print(\"\\n\")\n",
    "print(classification_report(y_test, y_pred_svm2))\n",
    "print(\"\\n\")\n",
    "\n",
    "# Confusion Matrix\n",
    "print('Confusion Matrix is :\\n\\n',confusion_matrix(y_test, y_pred_svm2))\n",
    "print(\"\\n\")\n",
    "\n",
    "# Accuracy score\n",
    "print('Accuracy Score is : ',accuracy_score(y_pred_svm2,y_test))\n",
    "print(\"\\n\")"
   ]
  },
  {
   "cell_type": "markdown",
   "id": "5bfec009",
   "metadata": {},
   "source": [
    "### MODEL 4  ---  DECISION TREE"
   ]
  },
  {
   "cell_type": "code",
   "execution_count": 64,
   "id": "d9d8f0f3",
   "metadata": {},
   "outputs": [],
   "source": [
    "#  importing the libraries for Decision Tree's Model\n",
    "from sklearn.tree import DecisionTreeClassifier"
   ]
  },
  {
   "cell_type": "code",
   "execution_count": 65,
   "id": "3f781ff4",
   "metadata": {},
   "outputs": [],
   "source": [
    "# Implementing Decision Tree's Model"
   ]
  },
  {
   "cell_type": "code",
   "execution_count": 66,
   "id": "bbd516e5",
   "metadata": {},
   "outputs": [],
   "source": [
    "# Instantiate learning model\n",
    "dt_clf = DecisionTreeClassifier()\n",
    "# Fitting the model\n",
    "dt_clf = dt_clf.fit(X_train, y_train)\n",
    "# Predicting the Test set results\n",
    "y_pred_dt = dt_clf.predict(X_test)"
   ]
  },
  {
   "cell_type": "code",
   "execution_count": 67,
   "id": "f3a7c00e",
   "metadata": {},
   "outputs": [],
   "source": [
    "#EVALUATING PREDICTIONS"
   ]
  },
  {
   "cell_type": "code",
   "execution_count": 68,
   "id": "d2f64923",
   "metadata": {},
   "outputs": [
    {
     "name": "stdout",
     "output_type": "stream",
     "text": [
      "\n",
      "\n",
      "              precision    recall  f1-score   support\n",
      "\n",
      "           0       1.00      1.00      1.00        10\n",
      "           1       1.00      1.00      1.00         9\n",
      "           2       1.00      1.00      1.00        11\n",
      "\n",
      "    accuracy                           1.00        30\n",
      "   macro avg       1.00      1.00      1.00        30\n",
      "weighted avg       1.00      1.00      1.00        30\n",
      "\n",
      "\n",
      "\n",
      "Confusion Matrix is :\n",
      "\n",
      " [[10  0  0]\n",
      " [ 0  9  0]\n",
      " [ 0  0 11]]\n",
      "\n",
      "\n",
      "Accuracy Score is :  1.0\n",
      "\n",
      "\n"
     ]
    }
   ],
   "source": [
    "# Summary of the predictions made by the classifier\n",
    "print(\"\\n\")\n",
    "print(classification_report(y_test, y_pred_dt))\n",
    "print(\"\\n\")\n",
    "\n",
    "# Confusion Matrix\n",
    "print('Confusion Matrix is :\\n\\n',confusion_matrix(y_test, y_pred_dt))\n",
    "print(\"\\n\")\n",
    "\n",
    "# Accuracy score\n",
    "print('Accuracy Score is : ',accuracy_score(y_pred_dt,y_test))\n",
    "print(\"\\n\")"
   ]
  },
  {
   "cell_type": "markdown",
   "id": "66694773",
   "metadata": {},
   "source": [
    "### MODEL 5 ---  RANDOM FOREST"
   ]
  },
  {
   "cell_type": "code",
   "execution_count": 69,
   "id": "3b64231e",
   "metadata": {},
   "outputs": [],
   "source": [
    "# importing the libraries for Random Forest \n",
    "from sklearn.ensemble import RandomForestClassifier"
   ]
  },
  {
   "cell_type": "code",
   "execution_count": 70,
   "id": "2eaf34a3",
   "metadata": {},
   "outputs": [],
   "source": [
    "# Implementing Random Forest's Model"
   ]
  },
  {
   "cell_type": "code",
   "execution_count": 71,
   "id": "35ed563a",
   "metadata": {},
   "outputs": [],
   "source": [
    "# Instantiate learning model\n",
    "rf_clf = RandomForestClassifier()\n",
    "# Fitting the model\n",
    "rf_clf = rf_clf.fit(X_train, y_train)\n",
    "# Predicting the Test set results\n",
    "y_pred_rf = rf_clf.predict(X_test)"
   ]
  },
  {
   "cell_type": "code",
   "execution_count": 72,
   "id": "a2047bde",
   "metadata": {},
   "outputs": [],
   "source": [
    "#EVALUATING PREDICTIONS"
   ]
  },
  {
   "cell_type": "code",
   "execution_count": 73,
   "id": "36dce815",
   "metadata": {},
   "outputs": [
    {
     "name": "stdout",
     "output_type": "stream",
     "text": [
      "\n",
      "\n",
      "              precision    recall  f1-score   support\n",
      "\n",
      "           0       1.00      1.00      1.00        10\n",
      "           1       1.00      1.00      1.00         9\n",
      "           2       1.00      1.00      1.00        11\n",
      "\n",
      "    accuracy                           1.00        30\n",
      "   macro avg       1.00      1.00      1.00        30\n",
      "weighted avg       1.00      1.00      1.00        30\n",
      "\n",
      "\n",
      "\n",
      "Confusion Matrix is :\n",
      "\n",
      " [[10  0  0]\n",
      " [ 0  9  0]\n",
      " [ 0  0 11]]\n",
      "\n",
      "\n",
      "Accuracy Score is :  1.0\n",
      "\n",
      "\n"
     ]
    }
   ],
   "source": [
    "# Summary of the predictions made by the classifier\n",
    "print(\"\\n\")\n",
    "print(classification_report(y_test, y_pred_rf ))\n",
    "print(\"\\n\")\n",
    "\n",
    "# Confusion Matrix\n",
    "print('Confusion Matrix is :\\n\\n',confusion_matrix(y_test, y_pred_rf ))\n",
    "print(\"\\n\")\n",
    "\n",
    "# Accuracy score\n",
    "print('Accuracy Score is : ',accuracy_score(y_pred_rf ,y_test))\n",
    "print(\"\\n\")"
   ]
  },
  {
   "cell_type": "code",
   "execution_count": 74,
   "id": "fa28b624",
   "metadata": {},
   "outputs": [
    {
     "name": "stdout",
     "output_type": "stream",
     "text": [
      "==============================\n",
      "LogisticRegression\n",
      "****Results****\n",
      "Accuracy Score is : 100.00%\n",
      "==============================\n",
      "\n",
      "\n",
      "==============================\n",
      "KNeighborsClassifier\n",
      "****Results****\n",
      "Accuracy Score is : 96.67%\n",
      "==============================\n",
      "\n",
      "\n",
      "==============================\n",
      "SVC\n",
      "****Results****\n",
      "Accuracy Score is : 100.00%\n",
      "==============================\n",
      "\n",
      "\n",
      "==============================\n",
      "DecisionTreeClassifier\n",
      "****Results****\n",
      "Accuracy Score is : 100.00%\n",
      "==============================\n",
      "\n",
      "\n",
      "==============================\n",
      "RandomForestClassifier\n",
      "****Results****\n",
      "Accuracy Score is : 100.00%\n",
      "==============================\n",
      "\n",
      "\n"
     ]
    },
    {
     "name": "stderr",
     "output_type": "stream",
     "text": [
      "C:\\Users\\athir\\AppData\\Local\\Temp\\ipykernel_6852\\1685648242.py:28: FutureWarning: The frame.append method is deprecated and will be removed from pandas in a future version. Use pandas.concat instead.\n",
      "  log = log.append(log_entry)\n",
      "C:\\Users\\athir\\AppData\\Local\\Temp\\ipykernel_6852\\1685648242.py:28: FutureWarning: The frame.append method is deprecated and will be removed from pandas in a future version. Use pandas.concat instead.\n",
      "  log = log.append(log_entry)\n",
      "C:\\Users\\athir\\AppData\\Local\\Temp\\ipykernel_6852\\1685648242.py:28: FutureWarning: The frame.append method is deprecated and will be removed from pandas in a future version. Use pandas.concat instead.\n",
      "  log = log.append(log_entry)\n",
      "C:\\Users\\athir\\AppData\\Local\\Temp\\ipykernel_6852\\1685648242.py:28: FutureWarning: The frame.append method is deprecated and will be removed from pandas in a future version. Use pandas.concat instead.\n",
      "  log = log.append(log_entry)\n",
      "C:\\Users\\athir\\AppData\\Local\\Temp\\ipykernel_6852\\1685648242.py:28: FutureWarning: The frame.append method is deprecated and will be removed from pandas in a future version. Use pandas.concat instead.\n",
      "  log = log.append(log_entry)\n"
     ]
    }
   ],
   "source": [
    "from sklearn.metrics import accuracy_score, log_loss\n",
    "classifiers = [\n",
    "    LogisticRegression(),\n",
    "    KNeighborsClassifier(n_neighbors=8),\n",
    "    SVC(),\n",
    "    DecisionTreeClassifier(),               \n",
    "    RandomForestClassifier()\n",
    "               ]\n",
    " \n",
    "# Logging for Visual Comparison\n",
    "log_cols=[\"Classifier\", \"Accuracy\", \"Log Loss\"]\n",
    "log = pd.DataFrame(columns=log_cols)\n",
    " \n",
    "for clf in classifiers:\n",
    "    clf.fit(X_train, y_train)\n",
    "    name = clf.__class__.__name__\n",
    "    \n",
    "    print(\"=\"*30)\n",
    "    print(name)\n",
    "    \n",
    "    print('****Results****')\n",
    "    train_predictions = clf.predict(X_test)\n",
    "    acc = accuracy_score(y_test, train_predictions)\n",
    "    print(\"Accuracy Score is : {:.2%}\".format(acc))\n",
    "    \n",
    "    \n",
    "    log_entry = pd.DataFrame([[name, acc*100, 11]], columns=log_cols)\n",
    "    log = log.append(log_entry)\n",
    "    \n",
    "    print(\"=\"*30)\n",
    "    print(\"\\n\")"
   ]
  },
  {
   "cell_type": "code",
   "execution_count": 75,
   "id": "e22f55a6",
   "metadata": {},
   "outputs": [
    {
     "data": {
      "image/png": "[encoded data removed]",
      "text/plain": [
       "<Figure size 432x288 with 1 Axes>"
      ]
     },
     "metadata": {
      "needs_background": "light"
     },
     "output_type": "display_data"
    }
   ],
   "source": [
    "sns.set_color_codes(\"muted\")\n",
    "sns.barplot(x='Accuracy', y='Classifier', data=log, color=\"orange\")\n",
    "\n",
    "plt.xlabel('Accuracy %')\n",
    "plt.title('Classifier Accuracy')\n",
    "plt.show()"
   ]
  },
  {
   "cell_type": "markdown",
   "id": "2ef46e62",
   "metadata": {},
   "source": [
    "### From this we understand that all the classification models(LOGISTIC REGRESSION MODEL , SVM , DECISION TREE, RANDOM FOREST) except kNN model gives 100% accuracy score for the model. For kNN Model, we are getting low accuracy score ie, 96.67% when compared with other models."
   ]
  },
  {
   "cell_type": "code",
   "execution_count": null,
   "id": "e8a40de5",
   "metadata": {},
   "outputs": [],
   "source": []
  }
 ],
 "metadata": {
  "kernelspec": {
   "display_name": "Python 3 (ipykernel)",
   "language": "python",
   "name": "python3"
  },
  "language_info": {
   "codemirror_mode": {
    "name": "ipython",
    "version": 3
   },
   "file_extension": ".py",
   "mimetype": "text/x-python",
   "name": "python",
   "nbconvert_exporter": "python",
   "pygments_lexer": "ipython3",
   "version": "3.9.12"
  }
 },
 "nbformat": 4,
 "nbformat_minor": 5
}
